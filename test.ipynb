{
 "metadata": {
  "language_info": {
   "codemirror_mode": {
    "name": "ipython",
    "version": 3
   },
   "file_extension": ".py",
   "mimetype": "text/x-python",
   "name": "python",
   "nbconvert_exporter": "python",
   "pygments_lexer": "ipython3",
   "version": "3.8.3-final"
  },
  "orig_nbformat": 2,
  "kernelspec": {
   "name": "Python 3.8.3 64-bit ('base': conda)",
   "display_name": "Python 3.8.3 64-bit ('base': conda)",
   "metadata": {
    "interpreter": {
     "hash": "b3ba2566441a7c06988d0923437866b63cedc61552a5af99d1f4fb67d367b25f"
    }
   }
  }
 },
 "nbformat": 4,
 "nbformat_minor": 2,
 "cells": [
  {
   "cell_type": "code",
   "execution_count": 47,
   "metadata": {
    "tags": []
   },
   "outputs": [
    {
     "output_type": "stream",
     "name": "stdout",
     "text": [
      "{1: '“It is our choices, Harry, that show what we truly are, far more than our abilities.”'}\n",
      "{2: '“There are only two ways to live your life. One is as though nothing is a miracle. The other is as though everything is a miracle.”'}\n",
      "{3: '“The person, be it gentleman or lady, who has not pleasure in a good novel, must be intolerably stupid.”'}\n",
      "{4: \"“Imperfection is beauty, madness is genius and it's better to be absolutely ridiculous than absolutely boring.”\"}\n",
      "{5: '“Try not to become a man of success. Rather become a man of value.”'}\n",
      "{6: '“It is better to be hated for what you are than to be loved for what you are not.”'}\n",
      "{7: \"“I have not failed. I've just found 10,000 ways that won't work.”\"}\n",
      "{8: \"“A woman is like a tea bag; you never know how strong it is until it's in hot water.”\"}\n",
      "{9: '“A day without sunshine is like, you know, night.”'}\n",
      "{1: '“It is our choices, Harry, that show what we truly are, far more than our abilities.”'}\n",
      "{2: '“There are only two ways to live your life. One is as though nothing is a miracle. The other is as though everything is a miracle.”'}\n",
      "{3: '“The person, be it gentleman or lady, who has not pleasure in a good novel, must be intolerably stupid.”'}\n",
      "{4: \"“Imperfection is beauty, madness is genius and it's better to be absolutely ridiculous than absolutely boring.”\"}\n",
      "{5: '“Try not to become a man of success. Rather become a man of value.”'}\n",
      "{6: '“It is better to be hated for what you are than to be loved for what you are not.”'}\n",
      "{7: \"“I have not failed. I've just found 10,000 ways that won't work.”\"}\n",
      "{8: \"“A woman is like a tea bag; you never know how strong it is until it's in hot water.”\"}\n",
      "{9: '“A day without sunshine is like, you know, night.”'}\n",
      "{10: \"“This life is what you make it. No matter what, you're going to mess up sometimes, it's a universal truth. But the good part is you get to decide how you're going to mess it up. Girls will be your friends - they'll act like it anyway. But just remember, some come, some go. The ones that stay with you through everything - they're your true best friends. Don't let go of them. Also remember, sisters make the best friends in the world. As for lovers, well, they'll come and go too. And baby, I hate to say it, most of them - actually pretty much all of them are going to break your heart, but you can't give up because if you give up, you'll never find your soulmate. You'll never find that half who makes you whole and that goes for everything. Just because you fail once, doesn't mean you're gonna fail at everything. Keep trying, hold on, and always, always, always believe in yourself, because if you don't, then who will, sweetie? So keep your head high, keep your chin up, and most importantly, keep smiling, because life's a beautiful thing and there's so much to smile about.”\"}\n",
      "{11: '“It takes a great deal of bravery to stand up to our enemies, but just as much to stand up to our friends.”'}\n",
      "{12: \"“If you can't explain it to a six year old, you don't understand it yourself.”\"}\n",
      "{13: \"“You may not be her first, her last, or her only. She loved before she may love again. But if she loves you now, what else matters? She's not perfect—you aren't either, and the two of you may never be perfect together but if she can make you laugh, cause you to think twice, and admit to being human and making mistakes, hold onto her and give her the most you can. She may not be thinking about you every second of the day, but she will give you a part of her that she knows you can break—her heart. So don't hurt her, don't change her, don't analyze and don't expect more than she can give. Smile when she makes you happy, let her know when she makes you mad, and miss her when she's not there.”\"}\n",
      "{14: '“I like nonsense, it wakes up the brain cells. Fantasy is a necessary ingredient in living.”'}\n",
      "{15: '“I may not have gone where I intended to go, but I think I have ended up where I needed to be.”'}\n",
      "{16: \"“The opposite of love is not hate, it's indifference. The opposite of art is not ugliness, it's indifference. The opposite of faith is not heresy, it's indifference. And the opposite of life is not death, it's indifference.”\"}\n",
      "{17: '“It is not a lack of love, but a lack of friendship that makes unhappy marriages.”'}\n",
      "{18: '“Good friends, good books, and a sleepy conscience: this is the ideal life.”'}\n",
      "{19: '“Life is what happens to us while we are making other plans.”'}\n"
     ]
    }
   ],
   "source": [
    "from bs4 import BeautifulSoup\n",
    "import requests\n",
    "\n",
    "url=[\"http://quotes.toscrape.com/page/1/\",\"http://quotes.toscrape.com/page/2/\"]\n",
    "parser=\"html5lib\"\n",
    "liste=list()\n",
    "for i in url:\n",
    "    requete=requests.get(i)\n",
    "    page=requete.content\n",
    "\n",
    "    soup=BeautifulSoup(page,parser)\n",
    "    \n",
    "        \n",
    "    for i in soup.find_all(\"span\", attrs={\"class\":u\"text\"}):\n",
    "         liste.append(i.string)\n",
    "#print(liste, end=\"\\t \")\n",
    "\n",
    "    for i in range(1,len(liste)):\n",
    "        dico={i:liste[i]}\n",
    "        print(dico)\n",
    "\n",
    "    "
   ]
  },
  {
   "cell_type": "code",
   "execution_count": 6,
   "metadata": {},
   "outputs": [
    {
     "output_type": "stream",
     "name": "stdout",
     "text": [
      "hello\n"
     ]
    }
   ],
   "source": [
    "print(\"hello\")"
   ]
  },
  {
   "cell_type": "code",
   "execution_count": 60,
   "metadata": {
    "tags": []
   },
   "outputs": [
    {
     "output_type": "stream",
     "name": "stdout",
     "text": [
      "['Remarks by President Trump After Air Force One Arrival | Milwaukee, WI', '2021-2022 White House Fellowship', 'President Donald J. Trump Is Protecting America’s Founding Ideals by Promoting Patriotic Education', 'American Dream Plan', 'Text of a Letter to the Speaker of the House of Representatives and the President of the Senate', 'Text of a Notice on the Continuation of the National Emergency with Respect to Sudan', 'Presidential Message on National Veterans Small Business Week, 2020', 'President Trump on China:  Putting America First', 'Remarks by President Trump After Air Force One Arrival | Charlotte, NC', 'Text of a Letter from the President to the Speaker of the House of Representatives and the President pro tempore of the Senate']\n"
     ]
    }
   ],
   "source": [
    "from bs4 import BeautifulSoup\n",
    "import requests\n",
    "url1=\"https://www.whitehouse.gov/briefings-statements/\"\n",
    "parser=\"html5lib\"\n",
    "requette=requests.get(url1)\n",
    "content=requette.content\n",
    "\n",
    "soup=BeautifulSoup(content,parser)\n",
    "liste=[]\n",
    "for i in soup.find_all(\"h2\", attrs={\"class\":u\"briefing-statement__title\"}):\n",
    "    liste.append(i.string)\n",
    "print(liste)\n",
    "\n",
    "\n"
   ]
  },
  {
   "cell_type": "code",
   "execution_count": 97,
   "metadata": {},
   "outputs": [
    {
     "output_type": "stream",
     "name": "stdout",
     "text": [
      "200\n",
      "667,15 €\n"
     ]
    }
   ],
   "source": [
    "from bs4 import BeautifulSoup\n",
    "import requests\n",
    "url=\"https://www.amazon.fr/Canon-Powershot-Appareil-Photo-Num%C3%A9rique/dp/B07V3NBJC3/ref=sr_1_2_sspa?__mk_fr_FR=%C3%85M%C3%85%C5%BD%C3%95%C3%91&dchild=1&keywords=canon&qid=1604478888&sr=8-2-spons&psc=1&spLa=ZW5jcnlwdGVkUXVhbGlmaWVyPUEyQVVPTFNHRkpPSkNMJmVuY3J5cHRlZElkPUEwOTY2MTc4M0hYSzI3TkJNTjlFNCZlbmNyeXB0ZWRBZElkPUEwOTQ0ODU5MkRIMFZKVzk3Q1Q3SSZ3aWRnZXROYW1lPXNwX2F0ZiZhY3Rpb249Y2xpY2tSZWRpcmVjdCZkb05vdExvZ0NsaWNrPXRydWU=\"\n",
    "\n",
    "parser=\"html5lib\"\n",
    "parser1=\"lxml\"\n",
    "\n",
    "#query=requests.get(url)\n",
    "\n",
    "# 503 , donc on change le header( depuis le link \"my user agent\")\n",
    "header= {\"User-Agent\": \"Mozilla/5.0 (Windows NT 10.0; Win64; x64) AppleWebKit/537.36 (KHTML, like Gecko) Chrome/86.0.4240.111 Safari/537.36\"}\n",
    "query=requests.get(url, headers=header)\n",
    "\n",
    "print(query.status_code)\n",
    "content_url=query.content\n",
    "\n",
    "soup=BeautifulSoup(content_url,parser)\n",
    "\n",
    "#Methode 1\n",
    "#result= soup.find(\"span\",attrs={\"id\":\"priceblock_ourprice\"}).text\n",
    "\n",
    "#Methode 2\n",
    "result= soup.find(\"span\",class_ =\"a-size-medium a-color-price priceBlockBuyingPriceString\").text\n",
    "print(result)"
   ]
  },
  {
   "cell_type": "code",
   "execution_count": null,
   "metadata": {},
   "outputs": [],
   "source": []
  }
 ]
}